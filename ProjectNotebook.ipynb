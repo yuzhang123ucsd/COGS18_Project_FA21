{
 "cells": [
  {
   "cell_type": "markdown",
   "metadata": {},
   "source": [
    "# Project Description"
   ]
  },
  {
   "cell_type": "markdown",
   "metadata": {},
   "source": [
    "### Introduction\n",
    "\n",
    "The User Information Based Encryption System is a program that use the the information you give to perform encryption and decryption with the algorithm of your choice.\n",
    "\n",
    "The goal is to make a encryption system that prompt for user information and make use of them in the process of encryption.\n",
    "\n",
    "### Cipher Algorithms\n",
    "\n",
    "Currrently, the system let you encrypt your data with two cipher algorithms:\n",
    "\n",
    "1. Substitution Cipher:\n",
    "    * encryption - construct a table that map every character to another character, them substitute every character in the text with the table.\n",
    "    * decryption - reverse the mapping table and them use the same function as above to map the characters back.\n",
    "\n",
    "2. Affine Cipher:\n",
    "    * encryption - (a * character + b) % m, where m is size of alphabet (which is 256 is this case) and a is coprime to m\n",
    "    * decryption - (a_inverse * (character - b)) % m, where a_inverse * a % m == 1\n",
    "\n",
    "\n",
    "### Wish More Time For ...\n",
    "\n",
    "Initially I wanted to let the user choose from more encryption algorithms such as RSA and AES, but after taking quite some time to research, I feel like I wouldn't have enough time to implement all of them, which turns out to be true, not to mention I need to make use of the information. Therefore, I chose to combine two different encryption algorithms, substitution and affine cipher, which are relatively more manageable for me and easier to make use of user input, even though the still took much longer than I expected.\n",
    "\n",
    "Currently, I used the user information to generate a number, and then use it as a random seed for substitution cipher, or a base number to compute a and b in Affine Cipher. If I had more time, I would like to find a more interesting way to make use of the information."
   ]
  },
  {
   "cell_type": "markdown",
   "metadata": {},
   "source": [
    "### Usage\n",
    "\n",
    "Execute the my_scrypt.py file, the system will be started.\n",
    "\n",
    "1. First you need to input some information.\n",
    "\n",
    "2. Then you can choose whether you want to encrypt a text or decrypt a encrypted text.\n",
    "\n",
    "3. Choose an algorithm to use, substitution cipher or affine cipher.\n",
    "\n",
    "3. The system will then print out the encrypted/decrypted result.\n",
    "\n",
    "The example input and output are shown below."
   ]
  },
  {
   "cell_type": "code",
   "execution_count": 1,
   "metadata": {},
   "outputs": [
    {
     "name": "stdout",
     "output_type": "stream",
     "text": [
      "Welcome to the user information based encryption system.\n",
      "Please login and create encryption key by letting me know a little more about you.\n",
      "\n",
      "Please input your initials in capital letters: \n",
      "yz\n",
      "Invalid input. Initials must be capital letters.\n",
      "\n",
      "Please input your initials in capital letters: \n",
      "YZ\n",
      "Pease input your age between 1 and 150: \n",
      "123\n",
      "Pease input what pet you have: \n",
      "Dog\n",
      "Please input your password with 10 characters: \n",
      "012345\n",
      "Password must be a string with 10 characters.\n",
      "\n",
      "Please input your password with 10 characters: \n",
      "0123456789\n",
      "Login succeed.\n",
      "What do you want to do? 1 for encrypt, 2 for decryption, 3 for quit.\n",
      "1\n",
      "Which algorithm do you want to use? 1 for substitution cipher, 2 for affine cipher.\n",
      "1\n",
      "Please input the text to be encrypted: \n",
      "Hello world!\n",
      "£\u0012llo wo\u0016lj\n",
      "What do you want to do? 1 for encrypt, 2 for decryption, 3 for quit.\n",
      "2\n",
      "Which algorithm do you want to use? 1 for substitution cipher, 2 for affine cipher.\n",
      "1\n",
      "Please input the text to be decrypted: \n",
      "£\u0012llo wo\u0016lj\n",
      "Hello world!\n",
      "What do you want to do? 1 for encrypt, 2 for decryption, 3 for quit.\n",
      "1\n",
      "Which algorithm do you want to use? 1 for substitution cipher, 2 for affine cipher.\n",
      "2\n",
      "Please input the text to be encrypted: \n",
      "This is great!\n",
      "Rfçñ\u001e",
      "çñ\u001e",
      "åpãßr\n",
      "What do you want to do? 1 for encrypt, 2 for decryption, 3 for quit.\n",
      "2\n",
      "Which algorithm do you want to use? 1 for substitution cipher, 2 for affine cipher.\n",
      "2\n",
      "Please input the text to be decrypted: \n",
      "Rfçñ\u001e",
      "çñ\u001e",
      "åpãßr\n",
      "This is great!\n",
      "What do you want to do? 1 for encrypt, 2 for decryption, 3 for quit.\n",
      "3\n",
      "Thank you and see you next time!\n"
     ]
    }
   ],
   "source": [
    "import scripts.my_script as script"
   ]
  },
  {
   "cell_type": "markdown",
   "metadata": {},
   "source": [
    "## Function Testing\n",
    "\n",
    "I wrote some test functions for the functions in fuction.py that make sense to use unit testing, such as test_find_gcd.\n",
    "\n",
    "For some functions are hard to make test on, I intergrated the testing process in other test functions, such as test_find_inverse_a which tested find_coprime_based_on_num as well.\n",
    "\n",
    "Some functions/method are too complex to write unit test on, so I tested them by going through the process of the system, such as the UserInfo.login method,"
   ]
  },
  {
   "cell_type": "code",
   "execution_count": 2,
   "metadata": {},
   "outputs": [],
   "source": [
    "# test it out\n",
    "import my_module.test_functions as test\n",
    "\n",
    "test.test_find_gcd()\n",
    "test.test_check_all_capital()\n",
    "test.test_find_inverse_a()"
   ]
  },
  {
   "cell_type": "markdown",
   "metadata": {},
   "source": [
    "#### Extra Credit (*optional*)\n",
    "\n",
    "I wanted to use some complex cipher algorithms that are actually used in real world. I tried to do AES and RSA, but after some research they seemed like mission impossible (at least with the time I have). But I still learned a lot during the process of learning and implementing affine cipher, and I also learned a lot about cipher in general."
   ]
  },
  {
   "cell_type": "code",
   "execution_count": null,
   "metadata": {},
   "outputs": [],
   "source": []
  }
 ],
 "metadata": {
  "kernelspec": {
   "display_name": "Python 3 (ipykernel)",
   "language": "python",
   "name": "python3"
  },
  "language_info": {
   "codemirror_mode": {
    "name": "ipython",
    "version": 3
   },
   "file_extension": ".py",
   "mimetype": "text/x-python",
   "name": "python",
   "nbconvert_exporter": "python",
   "pygments_lexer": "ipython3",
   "version": "3.9.5"
  }
 },
 "nbformat": 4,
 "nbformat_minor": 2
}
